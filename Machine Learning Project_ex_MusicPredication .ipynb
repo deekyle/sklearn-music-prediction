{
 "cells": [
  {
   "cell_type": "markdown",
   "metadata": {},
   "source": [
    "Learning how to predict the kind of music people like.  \n",
    "\n",
    "/Users/kyledee/Downloads/music.csv\n",
    "\n",
    "1. Import the data\n",
    "2. Clean the data\n",
    "3. Split the Data into Training/Test Sets (80% for training/20% for testing)\n",
    "4. Create a Model: Selecting an algorithm to analyze the data. (Depends on the data and problem we need to solve)\n",
    "5. Train the Model  \n",
    "6. Make predicitons - ask our model if they can make an accurate prediction.\n",
    "7. Evalute and Improve - Select a different algorithm to solve our problem or fine-tune the parameters of our model to optimize the accuracy.\n"
   ]
  },
  {
   "cell_type": "code",
   "execution_count": 1,
   "metadata": {},
   "outputs": [],
   "source": [
    "\n",
    "import numpy as np\n",
    "import pandas as pd\n",
    "import matplotlib as plt\n",
    "from sklearn.tree import DecisionTreeClassifier\n",
    "from sklearn.model_selection import train_test_split\n",
    "from sklearn.metrics import accuracy_score\n",
    "import sklearn.externals \n",
    "import joblib\n"
   ]
  },
  {
   "cell_type": "code",
   "execution_count": 2,
   "metadata": {},
   "outputs": [
    {
     "data": {
      "text/html": [
       "<div>\n",
       "<style scoped>\n",
       "    .dataframe tbody tr th:only-of-type {\n",
       "        vertical-align: middle;\n",
       "    }\n",
       "\n",
       "    .dataframe tbody tr th {\n",
       "        vertical-align: top;\n",
       "    }\n",
       "\n",
       "    .dataframe thead th {\n",
       "        text-align: right;\n",
       "    }\n",
       "</style>\n",
       "<table border=\"1\" class=\"dataframe\">\n",
       "  <thead>\n",
       "    <tr style=\"text-align: right;\">\n",
       "      <th></th>\n",
       "      <th>age</th>\n",
       "      <th>gender</th>\n",
       "      <th>genre</th>\n",
       "    </tr>\n",
       "  </thead>\n",
       "  <tbody>\n",
       "    <tr>\n",
       "      <th>0</th>\n",
       "      <td>20</td>\n",
       "      <td>1</td>\n",
       "      <td>HipHop</td>\n",
       "    </tr>\n",
       "    <tr>\n",
       "      <th>1</th>\n",
       "      <td>23</td>\n",
       "      <td>1</td>\n",
       "      <td>HipHop</td>\n",
       "    </tr>\n",
       "    <tr>\n",
       "      <th>2</th>\n",
       "      <td>25</td>\n",
       "      <td>1</td>\n",
       "      <td>HipHop</td>\n",
       "    </tr>\n",
       "    <tr>\n",
       "      <th>3</th>\n",
       "      <td>26</td>\n",
       "      <td>1</td>\n",
       "      <td>Jazz</td>\n",
       "    </tr>\n",
       "    <tr>\n",
       "      <th>4</th>\n",
       "      <td>29</td>\n",
       "      <td>1</td>\n",
       "      <td>Jazz</td>\n",
       "    </tr>\n",
       "  </tbody>\n",
       "</table>\n",
       "</div>"
      ],
      "text/plain": [
       "   age  gender   genre\n",
       "0   20       1  HipHop\n",
       "1   23       1  HipHop\n",
       "2   25       1  HipHop\n",
       "3   26       1    Jazz\n",
       "4   29       1    Jazz"
      ]
     },
     "execution_count": 2,
     "metadata": {},
     "output_type": "execute_result"
    }
   ],
   "source": [
    "music_data = pd.read_csv('/Users/kyledee/Downloads/music.csv')\n",
    "\n",
    "####Split the Dataset\n",
    "\n",
    "#Creating the input and ouput set\n",
    "    \n",
    "#Input Set: \n",
    "X = music_data.drop(columns=['genre']) \n",
    "#The set X, is the dataset without the genre data. This input set is the set used for our prediction model.\n",
    "#Note: The gender for 1 is Male and 0 is Female.\n",
    "\n",
    "\n",
    "#Output Set:\n",
    "Y = music_data['genre'] #The set Y, are the results of our model.  The predictions/Answers\n",
    "\n",
    "music_data.head()"
   ]
  },
  {
   "cell_type": "code",
   "execution_count": 3,
   "metadata": {
    "scrolled": true
   },
   "outputs": [
    {
     "name": "stdout",
     "output_type": "stream",
     "text": [
      "1.0\n"
     ]
    }
   ],
   "source": [
    "#### Train the model\n",
    "\n",
    "X_train, X_test, Y_train, Y_test = train_test_split(X,Y, test_size = 0.2)\n",
    "# Our first two varibles are our input sets\n",
    "# Our next two variables are our output sets\n",
    "\n",
    "\n",
    "#### Create the model for the machine learning\n",
    "\n",
    "model = DecisionTreeClassifier() #Train the model to learn patterns in the data\n",
    "model.fit(X_train,Y_train) # When training our model => use the training sets\n",
    "\n",
    "#### Predicting the inputs of our dataset to produced an output\n",
    "predictions = model.predict(X_test) #We want to make predictions on our input testing values\n",
    " \n",
    "   \n",
    "#### Scoring our predictions    \n",
    "score = accuracy_score(Y_test, predictions) # 0 to 1 accruacy score\n",
    "print(score) # We need more data to train our model for scoring\n"
   ]
  },
  {
   "cell_type": "markdown",
   "metadata": {},
   "source": [
    "Based on the scoring for our predictions we need more data to train our model."
   ]
  },
  {
   "cell_type": "code",
   "execution_count": 4,
   "metadata": {},
   "outputs": [
    {
     "data": {
      "text/plain": [
       "['music-recommender.joblib']"
      ]
     },
     "execution_count": 4,
     "metadata": {},
     "output_type": "execute_result"
    }
   ],
   "source": [
    "joblib.dump(model, 'music-recommender.joblib') \n",
    "#This saves our trained model so that we can load it later\n"
   ]
  },
  {
   "cell_type": "code",
   "execution_count": 5,
   "metadata": {},
   "outputs": [
    {
     "data": {
      "text/plain": [
       "array(['Classical'], dtype=object)"
      ]
     },
     "execution_count": 5,
     "metadata": {},
     "output_type": "execute_result"
    }
   ],
   "source": [
    "#We can load our saved model and make predictions\n",
    "model_01 = joblib.load('music-recommender.joblib')\n",
    "predictions_01 = model.predict([[46,1]])\n",
    "predictions_01"
   ]
  },
  {
   "cell_type": "markdown",
   "metadata": {},
   "source": [
    "Above our small machine learning model was able to predict that a 46 year old Male's genre of choice is \"Classical\".\n"
   ]
  },
  {
   "cell_type": "markdown",
   "metadata": {},
   "source": [
    "Below is the code for to upload to visual studio code.\n",
    "The following below is a visualizing a decision tree"
   ]
  },
  {
   "cell_type": "code",
   "execution_count": 6,
   "metadata": {},
   "outputs": [],
   "source": [
    "import pandas as pd\n",
    "from sklearn.tree import DecisionTreeClassifier\n",
    "from sklearn import tree\n",
    "\n",
    "music_data = pd.read_csv('/Users/kyledee/Downloads/music.csv')\n",
    "x2 = music_data.drop(columns = ['genre'])\n",
    "y2= music_data['genre']\n",
    "\n",
    "model = DecisionTreeClassifier()\n",
    "model.fit(x2,y2)\n",
    "\n",
    "tree.export_graphviz(model, out_file = 'music-recommender.dot',\n",
    "                     feature_names = ['age', 'gender'], # so we can see the rules in each node\n",
    "                     class_names = sorted(y2.unique()), # display the class for each node\n",
    "                     label = 'all', # every node has labels\n",
    "                     filled= True, # different colors\n",
    "                     rounded = True) # rounded corners\n",
    "\n",
    "\n"
   ]
  }
 ],
 "metadata": {
  "kernelspec": {
   "display_name": "Python 3",
   "language": "python",
   "name": "python3"
  },
  "language_info": {
   "codemirror_mode": {
    "name": "ipython",
    "version": 3
   },
   "file_extension": ".py",
   "mimetype": "text/x-python",
   "name": "python",
   "nbconvert_exporter": "python",
   "pygments_lexer": "ipython3",
   "version": "3.8.5"
  }
 },
 "nbformat": 4,
 "nbformat_minor": 4
}
